{
 "cells": [
  {
   "cell_type": "code",
   "execution_count": 122,
   "metadata": {},
   "outputs": [],
   "source": [
    "import keras\n",
    "import tensorflow as tf\n",
    "from keras.layers import Input, Dense, Flatten, Convolution2D, MaxPooling2D, Dropout, Lambda\n",
    "from keras.models import Model, Sequential\n",
    "from keras.datasets import mnist"
   ]
  },
  {
   "cell_type": "code",
   "execution_count": 364,
   "metadata": {},
   "outputs": [
    {
     "name": "stdout",
     "output_type": "stream",
     "text": [
      "(60000, 28, 28)\n",
      "(60000, 28, 28, 1)\n",
      "(60000,)\n",
      "(60000, 10)\n"
     ]
    }
   ],
   "source": [
    "#load and preprocess data\n",
    "import numpy as np\n",
    "import matplotlib.pyplot as plt\n",
    "(X_train, y_train), (X_test, y_test) = mnist.load_data()\n",
    "print(X_train.shape)\n",
    "\"\"\"\n",
    "X_train = X_train.reshape(60000, 784)\n",
    "X_test = X_test.reshape(10000, 784)\n",
    "\"\"\"\n",
    "\n",
    "\n",
    "\n",
    "X_train = X_train.reshape(X_train.shape[0], 28, 28, 1)\n",
    "X_test = X_test.reshape(X_test.shape[0], 28, 28, 1)\n",
    "\n",
    "X_train = X_train.astype('float32')\n",
    "X_test = X_test.astype('float32')\n",
    "X_train /= 255\n",
    "X_test /= 255\n",
    "print(X_train.shape)\n",
    "print(y_train.shape)\n",
    "num_classes = 10\n",
    "\n",
    "from keras.utils import np_utils\n",
    "# convert class vectors to binary class matrices 1-hot vector\n",
    "y_train = np_utils.to_categorical(y_train, num_classes)\n",
    "y_test = np_utils.to_categorical(y_test, num_classes)\n",
    "print(y_train.shape)"
   ]
  },
  {
   "cell_type": "code",
   "execution_count": 363,
   "metadata": {},
   "outputs": [
    {
     "data": {
      "text/plain": [
       "(array([ 5923.,  6742.,  5958.,  6131.,  5842.,  5421.,  5918.,  6265.,\n",
       "         5851.,  5949.]),\n",
       " array([ 0. ,  0.9,  1.8,  2.7,  3.6,  4.5,  5.4,  6.3,  7.2,  8.1,  9. ]),\n",
       " <a list of 10 Patch objects>)"
      ]
     },
     "execution_count": 363,
     "metadata": {},
     "output_type": "execute_result"
    },
    {
     "data": {
      "image/png": "[encoded data removed]",
      "text/plain": [
       "<matplotlib.figure.Figure at 0x150d28278>"
      ]
     },
     "metadata": {},
     "output_type": "display_data"
    }
   ],
   "source": [
    "\"\"\"\n",
    "import matplotlib.pyplot as plt\n",
    "(X_train, y_train), (X_test, y_test) = mnist.load_data()\n",
    "plt.hist(y_train)\n",
    "\"\"\""
   ]
  },
  {
   "cell_type": "code",
   "execution_count": 108,
   "metadata": {},
   "outputs": [
    {
     "name": "stdout",
     "output_type": "stream",
     "text": [
      "(60000, 10)\n"
     ]
    }
   ],
   "source": [
    "\"\"\"\n",
    "print(X_train.shape[0], 'train samples', X_train.shape[1])\n",
    "print(X_test.shape[0], 'test samples', X_test.shape[1])\n",
    "input_size = X_train.shape[1]\n",
    "\"\"\"\n",
    "\n"
   ]
  },
  {
   "cell_type": "code",
   "execution_count": 135,
   "metadata": {
    "scrolled": true
   },
   "outputs": [
    {
     "data": {
      "text/plain": [
       "\"\\nmodel.add(Convolution2D(32, 5, 5, activation='relu', input_shape=(28,28,1)))\\nmodel.add(Convolution2D(64, 3, 3, activation='relu'))\\nmodel.add(MaxPooling2D(pool_size=(2,2)))\\nmodel.add(Dropout(0.25))\\n \\nmodel.add(Flatten())\\nmodel.add(Dense(128, activation='relu'))\\nmodel.add(Dropout(0.5))\\nmodel.add(Dense(10, activation='softmax'))\\n\""
      ]
     },
     "execution_count": 135,
     "metadata": {},
     "output_type": "execute_result"
    }
   ],
   "source": [
    "\n",
    "model = Sequential()\n",
    "\n",
    "#single-layer perceptron \n",
    "\"\"\"\n",
    "model.add(Flatten(input_shape=(28, 28, 1)))\n",
    "\n",
    "model.add(Dropout(0.25))\n",
    " \n",
    "model.add(Dense(10, activation=tf.nn.softmax))    \n",
    "\"\"\"\n",
    "\n",
    "#single CNN\n",
    "model.add(Convolution2D(32, 3, 3, activation='relu', input_shape=(28,28,1)))\n",
    "model.add(MaxPooling2D(pool_size=(2,2)))\n",
    "model.add(Dropout(0.25))\n",
    "model.add(Flatten())\n",
    "model.add(Dense(128, activation='relu'))\n",
    "model.add(Dropout(0.5))\n",
    "model.add(Dense(10, activation='softmax'))\n",
    "\n",
    "\n",
    "\"\"\"\n",
    "model.add(Convolution2D(32, 5, 5, activation='relu', input_shape=(28,28,1)))\n",
    "model.add(Convolution2D(64, 3, 3, activation='relu'))\n",
    "model.add(MaxPooling2D(pool_size=(2,2)))\n",
    "model.add(Dropout(0.25))\n",
    " \n",
    "model.add(Flatten())\n",
    "model.add(Dense(128, activation='relu'))\n",
    "model.add(Dropout(0.5))\n",
    "model.add(Dense(10, activation='softmax'))\n",
    "\"\"\"\n",
    "\n",
    "\n",
    "#model = Sequential([\n",
    "#    Flatten(input_shape=(28, 28)),\n",
    "#    Dense(128, activation=tf.nn.relu),\n",
    "#    Dense(10, activation=tf.nn.softmax)\n",
    "#])\n",
    "\n",
    "\n"
   ]
  },
  {
   "cell_type": "code",
   "execution_count": 136,
   "metadata": {},
   "outputs": [
    {
     "name": "stdout",
     "output_type": "stream",
     "text": [
      "____________________________________________________________________________________________________\n",
      "Layer (type)                     Output Shape          Param #     Connected to                     \n",
      "====================================================================================================\n",
      "convolution2d_18 (Convolution2D) (None, 26, 26, 32)    320         convolution2d_input_9[0][0]      \n",
      "____________________________________________________________________________________________________\n",
      "maxpooling2d_10 (MaxPooling2D)   (None, 13, 13, 32)    0           convolution2d_18[0][0]           \n",
      "____________________________________________________________________________________________________\n",
      "dropout_11 (Dropout)             (None, 13, 13, 32)    0           maxpooling2d_10[0][0]            \n",
      "____________________________________________________________________________________________________\n",
      "flatten_29 (Flatten)             (None, 5408)          0           dropout_11[0][0]                 \n",
      "____________________________________________________________________________________________________\n",
      "dense_28 (Dense)                 (None, 128)           692352      flatten_29[0][0]                 \n",
      "____________________________________________________________________________________________________\n",
      "dropout_12 (Dropout)             (None, 128)           0           dense_28[0][0]                   \n",
      "____________________________________________________________________________________________________\n",
      "dense_29 (Dense)                 (None, 10)            1290        dropout_12[0][0]                 \n",
      "====================================================================================================\n",
      "Total params: 693,962\n",
      "Trainable params: 693,962\n",
      "Non-trainable params: 0\n",
      "____________________________________________________________________________________________________\n"
     ]
    }
   ],
   "source": [
    "model.summary()\n",
    "model.compile(optimizer=\"adam\", loss = \"categorical_crossentropy\", metrics = ['categorical_accuracy'])"
   ]
  },
  {
   "cell_type": "code",
   "execution_count": null,
   "metadata": {},
   "outputs": [],
   "source": []
  },
  {
   "cell_type": "code",
   "execution_count": 137,
   "metadata": {},
   "outputs": [
    {
     "name": "stdout",
     "output_type": "stream",
     "text": [
      "Epoch 1/10\n",
      "60000/60000 [==============================] - 46s - loss: 0.2645 - acc: 0.9202    \n",
      "Epoch 2/10\n",
      "60000/60000 [==============================] - 46s - loss: 0.1169 - acc: 0.9654    \n",
      "Epoch 3/10\n",
      "60000/60000 [==============================] - 45s - loss: 0.0947 - acc: 0.9712    \n",
      "Epoch 4/10\n",
      "60000/60000 [==============================] - 46s - loss: 0.0773 - acc: 0.9762    \n",
      "Epoch 5/10\n",
      "60000/60000 [==============================] - 46s - loss: 0.0651 - acc: 0.9800    \n",
      "Epoch 6/10\n",
      "60000/60000 [==============================] - 46s - loss: 0.0598 - acc: 0.9814    \n",
      "Epoch 7/10\n",
      "60000/60000 [==============================] - 46s - loss: 0.0517 - acc: 0.9835    \n",
      "Epoch 8/10\n",
      "60000/60000 [==============================] - 46s - loss: 0.0472 - acc: 0.9844    \n",
      "Epoch 9/10\n",
      "60000/60000 [==============================] - 46s - loss: 0.0426 - acc: 0.9860    \n",
      "Epoch 10/10\n",
      "60000/60000 [==============================] - 46s - loss: 0.0401 - acc: 0.9871    \n"
     ]
    },
    {
     "data": {
      "text/plain": [
       "<keras.callbacks.History at 0x1260d36d8>"
      ]
     },
     "execution_count": 137,
     "metadata": {},
     "output_type": "execute_result"
    }
   ],
   "source": [
    "model.fit(X_train, y_train)\n",
    "\n"
   ]
  },
  {
   "cell_type": "code",
   "execution_count": 428,
   "metadata": {},
   "outputs": [
    {
     "name": "stdout",
     "output_type": "stream",
     "text": [
      "train: [0.0080444473921487472, 0.99793333333333334]\n",
      "test [0.038391996514086348, 0.98899999999999999]\n"
     ]
    }
   ],
   "source": [
    "scores = model.evaluate(X_train, y_train, verbose=0)\n",
    "print(\"train:\", scores)\n",
    "test_scores = model.evaluate(X_test, y_test, verbose=0)\n",
    "print(\"test\", test_scores)"
   ]
  },
  {
   "cell_type": "code",
   "execution_count": 139,
   "metadata": {},
   "outputs": [
    {
     "name": "stdout",
     "output_type": "stream",
     "text": [
      "[0.038391996514086348, 0.98899999999999999]\n"
     ]
    }
   ],
   "source": []
  },
  {
   "cell_type": "code",
   "execution_count": 173,
   "metadata": {},
   "outputs": [
    {
     "name": "stdout",
     "output_type": "stream",
     "text": [
      "Saved model to disk\n"
     ]
    }
   ],
   "source": [
    "model_json = model.to_json()\n",
    "model_name = \"model_single_layer_CNN\"\n",
    "with open(model_name+\".json\", \"w\") as json_file:\n",
    "    json_file.write(model_json)\n",
    "# serialize weights to HDF5\n",
    "# model.save_weights(\"model_single_layer_CNN.h5\")\n",
    "#saving whole model\n",
    "model.save(model_name+\".h5\")\n",
    "print(\"Saved model to disk\")\n"
   ]
  },
  {
   "cell_type": "code",
   "execution_count": 168,
   "metadata": {},
   "outputs": [
    {
     "name": "stdout",
     "output_type": "stream",
     "text": [
      "____________________________________________________________________________________________________\n",
      "Layer (type)                     Output Shape          Param #     Connected to                     \n",
      "====================================================================================================\n",
      "convolution2d_18 (Convolution2D) (None, 26, 26, 32)    320         convolution2d_input_9[0][0]      \n",
      "____________________________________________________________________________________________________\n",
      "maxpooling2d_10 (MaxPooling2D)   (None, 13, 13, 32)    0           convolution2d_18[0][0]           \n",
      "____________________________________________________________________________________________________\n",
      "dropout_11 (Dropout)             (None, 13, 13, 32)    0           maxpooling2d_10[0][0]            \n",
      "____________________________________________________________________________________________________\n",
      "flatten_29 (Flatten)             (None, 5408)          0           dropout_11[0][0]                 \n",
      "____________________________________________________________________________________________________\n",
      "dense_28 (Dense)                 (None, 128)           692352      flatten_29[0][0]                 \n",
      "____________________________________________________________________________________________________\n",
      "dropout_12 (Dropout)             (None, 128)           0           dense_28[0][0]                   \n",
      "____________________________________________________________________________________________________\n",
      "dense_29 (Dense)                 (None, 10)            1290        dropout_12[0][0]                 \n",
      "====================================================================================================\n",
      "Total params: 693,962\n",
      "Trainable params: 693,962\n",
      "Non-trainable params: 0\n",
      "____________________________________________________________________________________________________\n",
      "(3, 3, 1, 32)\n",
      "(32,)\n",
      "(5408, 128)\n",
      "(128,)\n",
      "(128, 10)\n",
      "(10,)\n"
     ]
    }
   ],
   "source": [
    "from keras.models import load_model\n",
    "#model = load_model('./model.h5')\n",
    "\n",
    "loaded_model = load_model('./model_single_layer_CNN.h5')\n",
    "model.summary()\n",
    "for layer in loaded_model.layers:\n",
    "    weights = layer.get_weights()\n",
    "    for elem in weights:\n",
    "        print(elem.shape)\n"
   ]
  },
  {
   "cell_type": "code",
   "execution_count": 141,
   "metadata": {},
   "outputs": [],
   "source": []
  },
  {
   "cell_type": "code",
   "execution_count": null,
   "metadata": {},
   "outputs": [],
   "source": []
  },
  {
   "cell_type": "code",
   "execution_count": 433,
   "metadata": {},
   "outputs": [
    {
     "name": "stdout",
     "output_type": "stream",
     "text": [
      "Loaded CNN model from disk\n",
      "categorical_accuracy: 98.90%\n"
     ]
    }
   ],
   "source": [
    "# load json and create model\n",
    "from keras.models import model_from_json\n",
    "json_file = open('model_single_layer_CNN.json', 'r')\n",
    "loaded_model_json = json_file.read()\n",
    "json_file.close()\n",
    "loaded_model = model_from_json(loaded_model_json)\n",
    "# load weights into new model\n",
    "loaded_model.load_weights(\"model_single_layer_CNN.h5\")\n",
    "print(\"Loaded CNN model from disk\")\n",
    " \n",
    "# evaluate loaded model on test data\n",
    "loaded_model.compile(loss='binary_crossentropy', optimizer='rmsprop', metrics=['categorical_accuracy'])\n",
    "score = loaded_model.evaluate(X_test, y_test, verbose=0)\n",
    "print(\"%s: %.2f%%\" % (loaded_model.metrics_names[1], score[1]*100))"
   ]
  },
  {
   "cell_type": "code",
   "execution_count": 449,
   "metadata": {},
   "outputs": [
    {
     "name": "stdout",
     "output_type": "stream",
     "text": [
      "____________________________________________________________________________________________________\n",
      "Layer (type)                     Output Shape          Param #     Connected to                     \n",
      "====================================================================================================\n",
      "flatten_33 (Flatten)             (None, 784)           0           flatten_input_35[0][0]           \n",
      "____________________________________________________________________________________________________\n",
      "dropout_16 (Dropout)             (None, 784)           0           flatten_33[0][0]                 \n",
      "____________________________________________________________________________________________________\n",
      "dense_33 (Dense)                 (None, 10)            7850        dropout_16[0][0]                 \n",
      "====================================================================================================\n",
      "Total params: 7,850\n",
      "Trainable params: 7,850\n",
      "Non-trainable params: 0\n",
      "____________________________________________________________________________________________________\n"
     ]
    }
   ],
   "source": [
    "# The reduced precision study will start with tensorflow's 8-bit,\n",
    "# then down to 4-bit (16 states) which is close to the MRAM device cases\n",
    "\n",
    "# using single layer model\n",
    "test_model = Sequential()\n",
    "\n",
    "#single-layer perceptron \n",
    "\n",
    "test_model.add(Flatten(input_shape=(28, 28, 1)))\n",
    "test_model.add(Dropout(0.25))\n",
    "test_model.add(Dense(10, activation=tf.nn.softmax))    \n",
    "\n",
    "test_model.summary()\n",
    "test_model.compile(optimizer=\"adam\", loss = \"categorical_crossentropy\", metrics = ['categorical_accuracy'])"
   ]
  },
  {
   "cell_type": "code",
   "execution_count": null,
   "metadata": {},
   "outputs": [],
   "source": []
  },
  {
   "cell_type": "code",
   "execution_count": 450,
   "metadata": {},
   "outputs": [
    {
     "name": "stdout",
     "output_type": "stream",
     "text": [
      "Loaded model from disk:  model_single_layer_3.h5\n",
      "categorical_accuracy: 91.35%\n",
      "____________________________________________________________________________________________________\n",
      "Layer (type)                     Output Shape          Param #     Connected to                     \n",
      "====================================================================================================\n",
      "flatten_33 (Flatten)             (None, 784)           0           flatten_input_36[0][0]           \n",
      "____________________________________________________________________________________________________\n",
      "dropout_16 (Dropout)             (None, 784)           0           flatten_33[0][0]                 \n",
      "____________________________________________________________________________________________________\n",
      "dense_33 (Dense)                 (None, 10)            7850        dropout_16[0][0]                 \n",
      "====================================================================================================\n",
      "Total params: 7,850\n",
      "Trainable params: 7,850\n",
      "Non-trainable params: 0\n",
      "____________________________________________________________________________________________________\n",
      "(784, 10) (10,)\n",
      "-0.965677 0.965138 -0.540117 0.531012\n"
     ]
    }
   ],
   "source": [
    "\n",
    "#save the single layer model for later, only need to do once for gerenating the model architecture\n",
    "test_model_json = test_model.to_json()\n",
    "with open(\"model_single_layer_perceptron.json\", \"w\") as json_file:\n",
    "    json_file.write(test_model_json)\n",
    "# test_model.load_weights(\"model_single_layer_3.h5\")\n",
    "\n",
    "json_file = open('model_single_layer_perceptron.json', 'r')\n",
    "\n",
    "new_model_json = json_file.read()\n",
    "json_file.close()\n",
    "\n",
    "new_model = model_from_json(new_model_json)\n",
    "\n",
    "# load weights into new model\n",
    "weights_to_load = \"model_single_layer_3.h5\"\n",
    "new_model.load_weights(weights_to_load)\n",
    "print(\"Loaded model from disk: \", weights_to_load)\n",
    " \n",
    "# evaluate loaded model on test data\n",
    "new_model.compile(loss='binary_crossentropy', optimizer='rmsprop', metrics=['categorical_accuracy'])\n",
    "score = new_model.evaluate(X_test, y_test, verbose=0)\n",
    "print(\"%s: %.2f%%\" % (new_model.metrics_names[1], score[1]*100))\n",
    "new_model.summary()\n",
    "layer = new_model.layers[2]\n",
    "weights = layer.get_weights()\n",
    "\n",
    "\n",
    "W = weights[0]\n",
    "b = weights[1]\n",
    "print(W.shape, b.shape)\n",
    "\n",
    "print(np.amin(W), np.amax(W), min(b), max(b))\n",
    "\n",
    "import copy\n",
    "origin_weight = copy.deepcopy(weights[0])\n",
    "origin_b = copy.deepcopy(weights[1])"
   ]
  },
  {
   "cell_type": "code",
   "execution_count": null,
   "metadata": {},
   "outputs": [],
   "source": []
  },
  {
   "cell_type": "code",
   "execution_count": 514,
   "metadata": {
    "collapsed": true
   },
   "outputs": [
    {
     "data": {
      "image/png": "[encoded data removed]",
      "text/plain": [
       "<matplotlib.figure.Figure at 0x14e831278>"
      ]
     },
     "metadata": {},
     "output_type": "display_data"
    }
   ],
   "source": [
    "#POR histogram\n",
    "num_bins = 32\n",
    "_, bins, patches = plt.hist(W.flatten(), num_bins, normed=1, facecolor='blue', alpha=0.5)\n",
    "plt.show()\n",
    "def quantization(weight_input, num_states):\n",
    "    if num_states <= 1:\n",
    "        print(\"not even binary... Error\\n\")\n",
    "        return\n",
    "    \n",
    "    # the histogram of the data\n",
    "    W = copy.deepcopy(weight_input)\n",
    "    # b = copy.deepcopy(b_input)\n",
    "    # 4 bits : 16 states; 8 bits : 256 states  \n",
    "    \n",
    "    # states = 3 \n",
    "    n = num_states // 2\n",
    "    lite_W = W\n",
    "    \n",
    "    # approach-1 linearly distribute the bins, convert any num between -1, 1 to some x/8\n",
    "    lite_W *= (n+1)\n",
    "    \n",
    "    lite_W = lite_W.astype(int)\n",
    "    \n",
    "    lite_W = lite_W.astype(float)\n",
    "    lite_W *= (1/n)\n",
    "    # print(lite_W[ind])\n",
    "\n",
    "    # reduced precision histogram\n",
    "    # n, bins, patches = plt.hist(lite_W.flatten(), num_bins, normed=1, facecolor='blue', alpha=0.5)\n",
    "    # plt.show()\n",
    "    return lite_W\n",
    "\n",
    "def inference(weight_input, b_input, num_states):\n",
    "\n",
    "    lite_W = quantization(weight_input,num_states)\n",
    "    \n",
    "    #print(b)\n",
    "    #print(lite_W)\n",
    "    \n",
    "    new_model.layers[2].set_weights([lite_W, b])\n",
    "    score = new_model.evaluate(X_test, y_test, verbose=0)\n",
    "    print(\"num of states = %d: %s: %.2f%%\" % (num_states, new_model.metrics_names[1], score[1]*100))\n",
    "    return score[1]*100\n",
    "\n",
    "\n",
    "    \n",
    "#print(W[:,4])"
   ]
  },
  {
   "cell_type": "code",
   "execution_count": 518,
   "metadata": {
    "collapsed": true
   },
   "outputs": [
    {
     "name": "stdout",
     "output_type": "stream",
     "text": [
      "num of states = 2: categorical_accuracy: 25.08%\n",
      "num of states = 3: categorical_accuracy: 25.08%\n",
      "num of states = 4: categorical_accuracy: 72.33%\n",
      "num of states = 6: categorical_accuracy: 78.50%\n",
      "num of states = 8: categorical_accuracy: 84.50%\n",
      "num of states = 10: categorical_accuracy: 87.66%\n",
      "num of states = 16: categorical_accuracy: 90.16%\n",
      "num of states = 24: categorical_accuracy: 90.76%\n",
      "num of states = 32: categorical_accuracy: 91.24%\n",
      "num of states = 48: categorical_accuracy: 90.93%\n",
      "num of states = 64: categorical_accuracy: 91.26%\n"
     ]
    },
    {
     "data": {
      "image/png": "[encoded data removed]",
      "text/plain": [
       "<matplotlib.figure.Figure at 0x14c851400>"
      ]
     },
     "metadata": {},
     "output_type": "display_data"
    }
   ],
   "source": [
    "list_nums_states = [2,3,4,6,8,10,16,24,32,48,64]\n",
    "\n",
    "def precisionScan(weight, b, list_nums_states):\n",
    "    list_accuracy = []\n",
    "    for n in list_nums_states:\n",
    "        accuracy = inference(weight, b, n)\n",
    "        list_accuracy.append(accuracy)\n",
    "    \n",
    "    fig = plt.figure()\n",
    "    ax = plt.gca()\n",
    "    plt.plot(list_nums_states, list_accuracy)\n",
    "    ax.set_xscale('log', basex=2)\n",
    "    ax.set_xticks([2, 4, 8, 16, 32, 64])\n",
    "    return list_accuracy\n",
    "list_accuracy_ideal = precisionScan(origin_weight, origin_b, list_nums_states)"
   ]
  },
  {
   "cell_type": "code",
   "execution_count": 571,
   "metadata": {},
   "outputs": [
    {
     "name": "stdout",
     "output_type": "stream",
     "text": [
      "num of states = 2: categorical_accuracy: 33.94%\n",
      "num of states = 3: categorical_accuracy: 33.94%\n",
      "num of states = 4: categorical_accuracy: 72.66%\n",
      "num of states = 6: categorical_accuracy: 82.36%\n",
      "num of states = 8: categorical_accuracy: 87.80%\n",
      "num of states = 10: categorical_accuracy: 88.97%\n",
      "num of states = 16: categorical_accuracy: 89.81%\n",
      "num of states = 24: categorical_accuracy: 89.98%\n",
      "num of states = 32: categorical_accuracy: 90.44%\n",
      "num of states = 48: categorical_accuracy: 90.12%\n",
      "num of states = 64: categorical_accuracy: 90.26%\n",
      "num of states = 2: categorical_accuracy: 41.91%\n",
      "num of states = 3: categorical_accuracy: 41.91%\n",
      "num of states = 4: categorical_accuracy: 73.93%\n",
      "num of states = 6: categorical_accuracy: 85.84%\n",
      "num of states = 8: categorical_accuracy: 84.05%\n",
      "num of states = 10: categorical_accuracy: 87.04%\n",
      "num of states = 16: categorical_accuracy: 87.86%\n",
      "num of states = 24: categorical_accuracy: 88.96%\n",
      "num of states = 32: categorical_accuracy: 89.35%\n",
      "num of states = 48: categorical_accuracy: 89.44%\n",
      "num of states = 64: categorical_accuracy: 89.24%\n",
      "{0.1: [33.939999999999998, 33.939999999999998, 72.659999999999997, 82.359999999999999, 87.799999999999997, 88.969999999999999, 89.810000000000002, 89.980000000000004, 90.439999999999998, 90.120000000000005, 90.259999999999991], 0.2: [41.909999999999997, 41.909999999999997, 73.929999999999993, 85.840000000000003, 84.049999999999997, 87.039999999999992, 87.859999999999999, 88.959999999999994, 89.349999999999994, 89.439999999999998, 89.239999999999995]}\n"
     ]
    },
    {
     "data": {
      "image/png": "[encoded data removed]",
      "text/plain": [
       "<matplotlib.figure.Figure at 0x180e79080>"
      ]
     },
     "metadata": {},
     "output_type": "display_data"
    },
    {
     "data": {
      "image/png": "[encoded data removed]",
      "text/plain": [
       "<matplotlib.figure.Figure at 0x182991d30>"
      ]
     },
     "metadata": {},
     "output_type": "display_data"
    }
   ],
   "source": [
    "#add some random noise, say +/- 20%\n",
    "\n",
    "\n",
    "noise_levels = [0.10, 0.20]\n",
    "dict_noise_results = {}\n",
    "for noise_level in noise_levels:\n",
    "    list_accuracy_noise = []\n",
    "    noise = (np.random.rand(origin_weight.shape[0],origin_weight.shape[1])-0.5)*2 # random noise from (-1,1)\n",
    "\n",
    "    noise_weight = origin_weight + noise*noise_level\n",
    "    noise_b = origin_b  # np.ones_like(origin_b)\n",
    "\n",
    "    #score = new_model.evaluate(X_test, y_test, verbose=0)\n",
    "\n",
    "    dict_noise_results[noise_level] = precisionScan(noise_weight, noise_b, list_nums_states)\n",
    "\n",
    "print(dict_noise_results)\n",
    "    \n"
   ]
  },
  {
   "cell_type": "code",
   "execution_count": 572,
   "metadata": {
    "scrolled": true
   },
   "outputs": [
    {
     "data": {
      "image/png": "[encoded data removed]",
      "text/plain": [
       "<matplotlib.figure.Figure at 0x182a2db70>"
      ]
     },
     "metadata": {},
     "output_type": "display_data"
    },
    {
     "data": {
      "text/plain": [
       "<matplotlib.figure.Figure at 0x182b071d0>"
      ]
     },
     "metadata": {},
     "output_type": "display_data"
    }
   ],
   "source": [
    "#plt.cla()\n",
    "summ_fig = plt.figure()\n",
    "ax = plt.gca()\n",
    "#plt.plot(list_nums_states, list_accuracy_noise)\n",
    "# red dashes, blue squares and green triangles\n",
    "plt.plot(list_nums_states, list_accuracy, 'r-', label = \"ideal\") \n",
    "plt.plot(list_nums_states, dict_noise_results[noise_levels[0]], 'b-', label = \"%.1f% % noise\" % (noise_levels[0]*100))\n",
    "plt.plot(list_nums_states, dict_noise_results[noise_levels[1]], 'b--', label = \"%.1f% % noise\" % (noise_levels[1]*100))\n",
    "plt.axis([2, 64, 5, 95])\n",
    "ax.set_xscale('log', basex=2)\n",
    "ax.set_xticks([2, 4, 8, 16, 32, 64])\n",
    "legend = ax.legend(loc='lower center', shadow=True, fontsize='x-large')\n",
    "\n",
    "# Put a nicer background color on the legend.\n",
    "legend.get_frame().set_facecolor('#90AA6C')\n",
    "plt.show()\n",
    "plt.clf()\n",
    "#intuition: degree of freedom is about 10 so 10+ states needed to get over the cliff,\n",
    "#higher precision is needed if the problem is more complex"
   ]
  },
  {
   "cell_type": "code",
   "execution_count": 430,
   "metadata": {
    "collapsed": true
   },
   "outputs": [
    {
     "data": {
      "image/png": "[encoded data removed]",
      "text/plain": [
       "<matplotlib.figure.Figure at 0x147a390b8>"
      ]
     },
     "metadata": {},
     "output_type": "display_data"
    },
    {
     "name": "stdout",
     "output_type": "stream",
     "text": [
      "9\n"
     ]
    },
    {
     "data": {
      "image/png": "[encoded data removed]",
      "text/plain": [
       "<matplotlib.figure.Figure at 0x1476ebe80>"
      ]
     },
     "metadata": {},
     "output_type": "display_data"
    },
    {
     "name": "stdout",
     "output_type": "stream",
     "text": [
      "1\n"
     ]
    },
    {
     "data": {
      "image/png": "[encoded data removed]",
      "text/plain": [
       "<matplotlib.figure.Figure at 0x14668acf8>"
      ]
     },
     "metadata": {},
     "output_type": "display_data"
    },
    {
     "name": "stdout",
     "output_type": "stream",
     "text": [
      "6\n"
     ]
    },
    {
     "data": {
      "image/png": "[encoded data removed]",
      "text/plain": [
       "<matplotlib.figure.Figure at 0x147b08be0>"
      ]
     },
     "metadata": {},
     "output_type": "display_data"
    },
    {
     "name": "stdout",
     "output_type": "stream",
     "text": [
      "2\n"
     ]
    },
    {
     "data": {
      "image/png": "[encoded data removed]",
      "text/plain": [
       "<matplotlib.figure.Figure at 0x146d882e8>"
      ]
     },
     "metadata": {},
     "output_type": "display_data"
    },
    {
     "name": "stdout",
     "output_type": "stream",
     "text": [
      "7\n"
     ]
    },
    {
     "data": {
      "image/png": "[encoded data removed]",
      "text/plain": [
       "<matplotlib.figure.Figure at 0x1444000b8>"
      ]
     },
     "metadata": {},
     "output_type": "display_data"
    },
    {
     "name": "stdout",
     "output_type": "stream",
     "text": [
      "8\n"
     ]
    },
    {
     "data": {
      "image/png": "[encoded data removed]",
      "text/plain": [
       "<matplotlib.figure.Figure at 0x142574f28>"
      ]
     },
     "metadata": {},
     "output_type": "display_data"
    },
    {
     "name": "stdout",
     "output_type": "stream",
     "text": [
      "8\n"
     ]
    },
    {
     "data": {
      "image/png": "[encoded data removed]",
      "text/plain": [
       "<matplotlib.figure.Figure at 0x14131d5f8>"
      ]
     },
     "metadata": {},
     "output_type": "display_data"
    },
    {
     "name": "stdout",
     "output_type": "stream",
     "text": [
      "6\n"
     ]
    },
    {
     "data": {
      "image/png": "[encoded data removed]",
      "text/plain": [
       "<matplotlib.figure.Figure at 0x141a00c88>"
      ]
     },
     "metadata": {},
     "output_type": "display_data"
    },
    {
     "name": "stdout",
     "output_type": "stream",
     "text": [
      "2\n"
     ]
    },
    {
     "data": {
      "image/png": "[encoded data removed]",
      "text/plain": [
       "<matplotlib.figure.Figure at 0x143738550>"
      ]
     },
     "metadata": {},
     "output_type": "display_data"
    },
    {
     "name": "stdout",
     "output_type": "stream",
     "text": [
      "5\n"
     ]
    },
    {
     "data": {
      "image/png": "[encoded data removed]",
      "text/plain": [
       "<matplotlib.figure.Figure at 0x141d41cf8>"
      ]
     },
     "metadata": {},
     "output_type": "display_data"
    },
    {
     "name": "stdout",
     "output_type": "stream",
     "text": [
      "0\n"
     ]
    },
    {
     "data": {
      "image/png": "[encoded data removed]",
      "text/plain": [
       "<matplotlib.figure.Figure at 0x146cc1c88>"
      ]
     },
     "metadata": {},
     "output_type": "display_data"
    },
    {
     "name": "stdout",
     "output_type": "stream",
     "text": [
      "7\n",
      " 9952/10000 [============================>.] - ETA: 0s[0.056280462153255939, 0.98280999851226802]\n"
     ]
    }
   ],
   "source": [
    "\"\"\"\n",
    "debug\n",
    "\"\"\"\n",
    "W = copy.deepcopy(origin_weight) # origin_weight noise\n",
    "b = copy.deepcopy(origin_b) # origin_b noise_b\n",
    "# 4 bits : 16 states; 8 bits : 256 states  \n",
    "# states = 3 \n",
    "num_states = 64\n",
    "n = num_states // 2\n",
    "lite_W = W\n",
    "# approach-1 linearly distribute the bins, convert any num between -1, 1 to some x/8\n",
    "lite_W *= (n+1)\n",
    "\n",
    "lite_W = lite_W.astype(int)\n",
    "\n",
    "lite_W = lite_W.astype(float)\n",
    "lite_W *= (1/n)\n",
    "# print(lite_W[ind])\n",
    "\n",
    "# reduced precision histogram\n",
    "# n, bins, patches = plt.hist(lite_W.flatten(), num_bins, normed=1, facecolor='blue', alpha=0.5)\n",
    "# plt.show()\n",
    "\n",
    "#print(b)\n",
    "#print(lite_W)\n",
    "\n",
    "new_model.layers[2].set_weights([lite_W, b])\n",
    "list_index = [4444, 3605, 3000, 2500,605,601,603,607,609,710,704,702]\n",
    "for i in list_index:\n",
    "    image_index = i\n",
    "    fig = plt.imshow(X_test[image_index].reshape(28, 28),cmap='Greys')\n",
    "    pred = new_model.predict(X_test[image_index].reshape(1, 28, 28, 1))\n",
    "\n",
    "    plt.show()\n",
    "    print(pred.argmax())\n",
    "score = new_model.evaluate(X_test, y_test)\n",
    "print(score)\n",
    "#print(new_model.layers[2].get_weights())\n",
    "#print(\"num of states = %d: %s: %.2f%%\" % (num_states, new_model.metrics_names[1], score[1]*100))"
   ]
  },
  {
   "cell_type": "code",
   "execution_count": 551,
   "metadata": {
    "collapsed": true
   },
   "outputs": [
    {
     "name": "stdout",
     "output_type": "stream",
     "text": [
      "____________________________________________________________________________________________________\n",
      "Layer (type)                     Output Shape          Param #     Connected to                     \n",
      "====================================================================================================\n",
      "convolution2d_18 (Convolution2D) (None, 26, 26, 32)    320         convolution2d_input_9[0][0]      \n",
      "____________________________________________________________________________________________________\n",
      "maxpooling2d_10 (MaxPooling2D)   (None, 13, 13, 32)    0           convolution2d_18[0][0]           \n",
      "____________________________________________________________________________________________________\n",
      "dropout_11 (Dropout)             (None, 13, 13, 32)    0           maxpooling2d_10[0][0]            \n",
      "____________________________________________________________________________________________________\n",
      "flatten_29 (Flatten)             (None, 5408)          0           dropout_11[0][0]                 \n",
      "____________________________________________________________________________________________________\n",
      "dense_28 (Dense)                 (None, 128)           692352      flatten_29[0][0]                 \n",
      "____________________________________________________________________________________________________\n",
      "dropout_12 (Dropout)             (None, 128)           0           dense_28[0][0]                   \n",
      "____________________________________________________________________________________________________\n",
      "dense_29 (Dense)                 (None, 10)            1290        dropout_12[0][0]                 \n",
      "====================================================================================================\n",
      "Total params: 693,962\n",
      "Trainable params: 693,962\n",
      "Non-trainable params: 0\n",
      "____________________________________________________________________________________________________\n",
      "0 2\n",
      "-0.972724 0.577626 -0.448855 -0.0078923\n",
      "(3, 3, 1, 32)\n",
      "(32,)\n",
      "1 0\n",
      "2 0\n",
      "3 0\n",
      "4 2\n",
      "-0.793803 0.875683 -0.302952 0.200729\n",
      "(5408, 128)\n",
      "(128,)\n",
      "5 0\n",
      "6 2\n",
      "-0.762162 0.56882 -0.309288 0.223843\n",
      "(128, 10)\n",
      "(10,)\n",
      "acc: 98.90%\n"
     ]
    },
    {
     "data": {
      "text/plain": [
       "'\\ndebug\\n'"
      ]
     },
     "execution_count": 551,
     "metadata": {},
     "output_type": "execute_result"
    }
   ],
   "source": [
    "from keras.models import load_model\n",
    "#model = load_model('./model.h5')\n",
    "\n",
    "loaded_model = load_model('./model_single_layer_CNN.h5')\n",
    "model.summary()\n",
    "for i, layer in enumerate(loaded_model.layers):\n",
    "    \n",
    "    weights = layer.get_weights()\n",
    "    print(i, len(weights))\n",
    "    if len(weights) > 1:\n",
    "        print(np.amin(weights[0]), np.amax(weights[0]), min(weights[1]), max(weights[1]))\n",
    "    for elem in weights:\n",
    "        print(elem.shape)\n",
    "score = loaded_model.evaluate(X_test, y_test, verbose=0)\n",
    "print(\"%s: %.2f%%\" % (loaded_model.metrics_names[1], score[1]*100))\n",
    "\"\"\"\n",
    "debug\n",
    "\"\"\"\n"
   ]
  },
  {
   "cell_type": "code",
   "execution_count": 560,
   "metadata": {
    "collapsed": true
   },
   "outputs": [
    {
     "name": "stdout",
     "output_type": "stream",
     "text": [
      "num of states = 2: acc: 15.51%\n",
      "num of states = 3: acc: 15.51%\n",
      "num of states = 4: acc: 17.26%\n",
      "num of states = 6: acc: 77.14%\n",
      "num of states = 8: acc: 95.97%\n",
      "num of states = 10: acc: 97.67%\n",
      "num of states = 16: acc: 98.31%\n",
      "num of states = 24: acc: 98.45%\n",
      "num of states = 32: acc: 98.73%\n",
      "num of states = 48: acc: 98.76%\n",
      "num of states = 64: acc: 98.88%\n"
     ]
    },
    {
     "data": {
      "image/png": "[encoded data removed]",
      "text/plain": [
       "<matplotlib.figure.Figure at 0x16e1c4550>"
      ]
     },
     "metadata": {},
     "output_type": "display_data"
    }
   ],
   "source": [
    "def inference_CNN(weights_CNN, num_states):\n",
    "    \n",
    "    for i, weights in enumerate(weights_CNN):\n",
    "        if len(weights) > 1:\n",
    "            temp_W = weights[0]\n",
    "            temp_b = weights[1]\n",
    "            #print(temp_W)\n",
    "            lite_W = quantization(temp_W, num_states)\n",
    "    \n",
    "            #print(b)\n",
    "            #print(lite_W)\n",
    "    \n",
    "            model_CNN.layers[i].set_weights([lite_W, temp_b])\n",
    "    score = model_CNN.evaluate(X_test, y_test, verbose=0)\n",
    "    print(\"num of states = %d: %s: %.2f%%\" % (num_states, model_CNN.metrics_names[1], score[1]*100))\n",
    "    return score[1]*100\n",
    "\n",
    "list_nums_states = [2,3,4,6,8,10,16,24,32,48,64]\n",
    "model_name = \"./model_single_layer_CNN.h5\"\n",
    "def precisionScan_CNN(model_name, list_nums_states):\n",
    "    model_CNN = load_model(model_name)\n",
    "    list_accuracy = []\n",
    "    weights_CNN = []\n",
    "    for layer in model.layers:\n",
    "        weights_CNN.append(layer.get_weights())\n",
    "        \n",
    "    for n in list_nums_states:\n",
    "        \n",
    "        accuracy = inference_CNN(weights_CNN, n)\n",
    "        list_accuracy.append(accuracy)\n",
    "    \n",
    "    fig = plt.figure()\n",
    "    ax = plt.gca()\n",
    "    plt.plot(list_nums_states, list_accuracy)\n",
    "    ax.set_xscale('log', basex=2)\n",
    "    ax.set_xticks([2, 4, 8, 16, 32, 64])\n",
    "    return list_accuracy\n",
    "accuracy_ideal_CNN = precisionScan_CNN(model_name, list_nums_states)"
   ]
  },
  {
   "cell_type": "code",
   "execution_count": 559,
   "metadata": {
    "collapsed": true
   },
   "outputs": [
    {
     "name": "stdout",
     "output_type": "stream",
     "text": [
      "num of states = 2: acc: 15.51%\n",
      "num of states = 3: acc: 15.51%\n",
      "num of states = 4: acc: 17.26%\n",
      "num of states = 6: acc: 77.14%\n",
      "num of states = 8: acc: 95.97%\n",
      "num of states = 10: acc: 97.67%\n",
      "num of states = 16: acc: 98.31%\n",
      "num of states = 24: acc: 98.45%\n",
      "num of states = 32: acc: 98.73%\n",
      "num of states = 48: acc: 98.76%\n",
      "num of states = 64: acc: 98.88%\n",
      "num of states = 2: acc: 11.35%\n",
      "num of states = 3: acc: 11.35%\n",
      "num of states = 4: acc: 25.64%\n",
      "num of states = 6: acc: 62.69%\n",
      "num of states = 8: acc: 87.17%\n",
      "num of states = 10: acc: 96.90%\n",
      "num of states = 16: acc: 98.04%\n",
      "num of states = 24: acc: 98.08%\n",
      "num of states = 32: acc: 98.36%\n",
      "num of states = 48: acc: 98.56%\n",
      "num of states = 64: acc: 98.37%\n",
      "num of states = 2: acc: 8.81%\n",
      "num of states = 3: acc: 8.42%\n",
      "num of states = 4: acc: 21.63%\n",
      "num of states = 6: acc: 59.02%\n",
      "num of states = 8: acc: 90.78%\n",
      "num of states = 10: acc: 89.87%\n",
      "num of states = 16: acc: 91.66%\n",
      "num of states = 24: acc: 95.95%\n",
      "num of states = 32: acc: 94.99%\n",
      "num of states = 48: acc: 95.86%\n",
      "num of states = 64: acc: 95.78%\n",
      "num of states = 2: acc: 17.40%\n",
      "num of states = 3: acc: 10.26%\n",
      "num of states = 4: acc: 22.01%\n",
      "num of states = 6: acc: 19.00%\n",
      "num of states = 8: acc: 22.52%\n",
      "num of states = 10: acc: 22.70%\n",
      "num of states = 16: acc: 19.62%\n",
      "num of states = 24: acc: 14.08%\n",
      "num of states = 32: acc: 18.81%\n",
      "num of states = 48: acc: 18.29%\n",
      "num of states = 64: acc: 21.15%\n",
      "num of states = 2: acc: 8.76%\n",
      "num of states = 3: acc: 13.61%\n",
      "num of states = 4: acc: 9.38%\n",
      "num of states = 6: acc: 11.32%\n",
      "num of states = 8: acc: 11.20%\n",
      "num of states = 10: acc: 11.33%\n",
      "num of states = 16: acc: 7.95%\n",
      "num of states = 24: acc: 11.33%\n",
      "num of states = 32: acc: 11.34%\n",
      "num of states = 48: acc: 11.37%\n",
      "num of states = 64: acc: 11.35%\n",
      "{0: [15.509999999999998, 15.509999999999998, 17.260000000000002, 77.140000000000001, 95.969999999999999, 97.670000000000002, 98.310000000000002, 98.450000000000003, 98.72999999999999, 98.760000000000005, 98.879999999999995], 0.02: [8.8100000000000005, 8.4199999999999999, 21.629999999999999, 59.019999999999996, 90.780000000000001, 89.870000000000005, 91.659999999999997, 95.950000000000003, 94.989999999999995, 95.859999999999999, 95.780000000000001], 0.05: [17.399999999999999, 10.26, 22.009999999999998, 19.0, 22.52, 22.699999999999999, 19.620000000000001, 14.08, 18.809999999999999, 18.289999999999999, 21.149999999999999], 0.01: [11.35, 11.35, 25.640000000000001, 62.689999999999998, 87.170000000000002, 96.899999999999991, 98.040000000000006, 98.079999999999998, 98.359999999999999, 98.560000000000002, 98.370000000000005], 0.1: [8.7599999999999998, 13.609999999999999, 9.379999999999999, 11.32, 11.200000000000001, 11.33, 7.9500000000000002, 11.33, 11.34, 11.369999999999999, 11.35]}\n"
     ]
    },
    {
     "data": {
      "image/png": "[encoded data removed]",
      "text/plain": [
       "<matplotlib.figure.Figure at 0x17a0087f0>"
      ]
     },
     "metadata": {},
     "output_type": "display_data"
    },
    {
     "data": {
      "image/png": "[encoded data removed]",
      "text/plain": [
       "<matplotlib.figure.Figure at 0x17970ff60>"
      ]
     },
     "metadata": {},
     "output_type": "display_data"
    },
    {
     "data": {
      "image/png": "[encoded data removed]",
      "text/plain": [
       "<matplotlib.figure.Figure at 0x17c0a2a90>"
      ]
     },
     "metadata": {},
     "output_type": "display_data"
    },
    {
     "data": {
      "image/png": "[encoded data removed]",
      "text/plain": [
       "<matplotlib.figure.Figure at 0x17c656780>"
      ]
     },
     "metadata": {},
     "output_type": "display_data"
    },
    {
     "data": {
      "image/png": "[encoded data removed]",
      "text/plain": [
       "<matplotlib.figure.Figure at 0x17dfda898>"
      ]
     },
     "metadata": {},
     "output_type": "display_data"
    }
   ],
   "source": [
    "#add some random noise, say +/- 20%\n",
    "def inference_CNN_noise(weights_CNN, num_states, noise_level):\n",
    "    \n",
    "\n",
    "    noise_weight = np.multiply(origin_weight,  1+noise*noise_level)+ noise*noise_level\n",
    "    for i, weights in enumerate(weights_CNN):\n",
    "        if len(weights) > 1:\n",
    "            #print(temp_W)np.random.randn(*a.shape)\n",
    "            temp_W = weights[0]\n",
    "            temp_noise = (np.random.randn(*weights[0].shape)-0.5)*2 # random noise from (-1,1)\n",
    "            #lite_W = np.multiply(weights[0],  1+temp_noise*noise_level) + temp_noise*noise_level\n",
    "            lite_W = weights[0] + temp_noise*noise_level\n",
    "            lite_W = quantization(lite_W, num_states)\n",
    "            temp_b = weights[1]\n",
    "            #print(b)\n",
    "            #print(lite_W)\n",
    "    \n",
    "            model_CNN.layers[i].set_weights([lite_W, temp_b])\n",
    "    score = model_CNN.evaluate(X_test, y_test, verbose=0)\n",
    "    print(\"num of states = %d: %s: %.2f%%\" % (num_states, model_CNN.metrics_names[1], score[1]*100))\n",
    "    return score[1]*100\n",
    "\n",
    "def precisionScan_CNN_noise(model_name, list_nums_states, noise_level):\n",
    "    model_CNN = load_model(model_name)\n",
    "    list_accuracy = []\n",
    "    weights_CNN = []\n",
    "    for layer in model.layers:\n",
    "        weights_CNN.append(layer.get_weights())\n",
    "        \n",
    "    for n in list_nums_states:\n",
    "        accuracy = inference_CNN_noise(weights_CNN, n, noise_level)\n",
    "        list_accuracy.append(accuracy)\n",
    "    \n",
    "    fig = plt.figure()\n",
    "    ax = plt.gca()\n",
    "    plt.plot(list_nums_states, list_accuracy)\n",
    "    ax.set_xscale('log', basex=2)\n",
    "    ax.set_xticks([2, 4, 8, 16, 32, 64])\n",
    "    return list_accuracy\n",
    "\n",
    "noise_levels = [0, 0.01, 0.02, 0.05, 0.1]\n",
    "dict_noise_results_CNN = {}\n",
    "for noise_level in noise_levels:\n",
    "    dict_noise_results_CNN[noise_level] = precisionScan_CNN_noise(model_name, list_nums_states, noise_level)\n",
    "print(dict_noise_results_CNN)"
   ]
  },
  {
   "cell_type": "code",
   "execution_count": 566,
   "metadata": {},
   "outputs": [
    {
     "data": {
      "image/png": "[encoded data removed]",
      "text/plain": [
       "<matplotlib.figure.Figure at 0x17e283a90>"
      ]
     },
     "metadata": {},
     "output_type": "display_data"
    },
    {
     "data": {
      "text/plain": [
       "<matplotlib.figure.Figure at 0x17f225128>"
      ]
     },
     "metadata": {},
     "output_type": "display_data"
    }
   ],
   "source": [
    "summ_fig = plt.figure()\n",
    "ax = plt.gca()\n",
    "#plt.plot(list_nums_states, list_accuracy_noise)\n",
    "# red dashes, blue squares and green triangles\n",
    "plt.plot(list_nums_states, accuracy_ideal_CNN, 'r-', label = \"ideal\") \n",
    "plt.plot(list_nums_states, dict_noise_results_CNN[noise_levels[1]], 'b-', label = \"%.1f% % noise\" % (noise_levels[1]*100))\n",
    "plt.plot(list_nums_states, dict_noise_results_CNN[noise_levels[2]], 'b--', label = \"%.1f% % noise\" % (noise_levels[2]*100))\n",
    "plt.plot(list_nums_states, dict_noise_results_CNN[noise_levels[3]], 'g--', label = \"%.1f% % noise\" % (noise_levels[3]*100))\n",
    "plt.axis([2, 64, 0, 100])\n",
    "ax.set_xscale('log', basex=2)\n",
    "ax.set_xticks([2, 4, 8, 16, 32, 64])\n",
    "legend = ax.legend(loc='center right', shadow=True, fontsize='x-large')\n",
    "\n",
    "# Put a nicer background color on the legend.\n",
    "legend.get_frame().set_facecolor('#90AA6C')\n",
    "plt.show()\n",
    "plt.clf()\n",
    "#intuition:"
   ]
  },
  {
   "cell_type": "code",
   "execution_count": null,
   "metadata": {},
   "outputs": [],
   "source": [
    "# approach-2 based on the distribution of W, customized the bins like\n",
    "# -0.7, -0.5, 0.45, 0.45, 0.6,"
   ]
  }
 ],
 "metadata": {
  "kernelspec": {
   "display_name": "Python 3",
   "language": "python",
   "name": "python3"
  },
  "language_info": {
   "codemirror_mode": {
    "name": "ipython",
    "version": 3
   },
   "file_extension": ".py",
   "mimetype": "text/x-python",
   "name": "python",
   "nbconvert_exporter": "python",
   "pygments_lexer": "ipython3",
   "version": "3.5.2"
  }
 },
 "nbformat": 4,
 "nbformat_minor": 2
}
